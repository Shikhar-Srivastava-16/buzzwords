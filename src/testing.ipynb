{
 "cells": [
  {
   "cell_type": "markdown",
   "metadata": {},
   "source": [
    "# Setup\n",
    "\n",
    "Here is the cell you should _only_ need to run one time, to set up your VM/venv/other environment. Try to use `pip` rather than `conda` as it is non-standard and I wasn't using it for devlopment, but I doubt it will actually make a difference. \n",
    "\n",
    "### Dependecies:\n",
    "Numpy  \n",
    "Matplotlib  \n",
    "PyTorch (the installation command for this may need to change, depending on your machine)  \n",
    "Scikit-Learn\n",
    "Net Tools"
   ]
  },
  {
   "cell_type": "markdown",
   "metadata": {},
   "source": []
  },
  {
   "cell_type": "code",
   "execution_count": null,
   "metadata": {},
   "outputs": [
    {
     "name": "stderr",
     "output_type": "stream",
     "text": [
      "1912.37s - pydevd: Sending message related to process being replaced timed-out after 5 seconds\n"
     ]
    },
    {
     "name": "stdout",
     "output_type": "stream",
     "text": [
      "Requirement already satisfied: numpy in /cs/home/ss504/Documents/Personal/stacshack25/buzzwords/.venv/lib/python3.9/site-packages (2.0.2)\n",
      "Note: you may need to restart the kernel to use updated packages.\n"
     ]
    },
    {
     "name": "stderr",
     "output_type": "stream",
     "text": [
      "1919.64s - pydevd: Sending message related to process being replaced timed-out after 5 seconds\n"
     ]
    },
    {
     "name": "stdout",
     "output_type": "stream",
     "text": [
      "Requirement already satisfied: matplotlib in /cs/home/ss504/Documents/Personal/stacshack25/buzzwords/.venv/lib/python3.9/site-packages (3.9.4)\n",
      "Requirement already satisfied: contourpy>=1.0.1 in /cs/home/ss504/Documents/Personal/stacshack25/buzzwords/.venv/lib/python3.9/site-packages (from matplotlib) (1.3.0)\n",
      "Requirement already satisfied: cycler>=0.10 in /cs/home/ss504/Documents/Personal/stacshack25/buzzwords/.venv/lib/python3.9/site-packages (from matplotlib) (0.12.1)\n",
      "Requirement already satisfied: fonttools>=4.22.0 in /cs/home/ss504/Documents/Personal/stacshack25/buzzwords/.venv/lib/python3.9/site-packages (from matplotlib) (4.56.0)\n",
      "Requirement already satisfied: kiwisolver>=1.3.1 in /cs/home/ss504/Documents/Personal/stacshack25/buzzwords/.venv/lib/python3.9/site-packages (from matplotlib) (1.4.7)\n",
      "Requirement already satisfied: numpy>=1.23 in /cs/home/ss504/Documents/Personal/stacshack25/buzzwords/.venv/lib/python3.9/site-packages (from matplotlib) (2.0.2)\n",
      "Requirement already satisfied: packaging>=20.0 in /cs/home/ss504/Documents/Personal/stacshack25/buzzwords/.venv/lib/python3.9/site-packages (from matplotlib) (24.2)\n",
      "Requirement already satisfied: pillow>=8 in /cs/home/ss504/Documents/Personal/stacshack25/buzzwords/.venv/lib/python3.9/site-packages (from matplotlib) (11.1.0)\n",
      "Requirement already satisfied: pyparsing>=2.3.1 in /cs/home/ss504/Documents/Personal/stacshack25/buzzwords/.venv/lib/python3.9/site-packages (from matplotlib) (3.2.1)\n",
      "Requirement already satisfied: python-dateutil>=2.7 in /cs/home/ss504/Documents/Personal/stacshack25/buzzwords/.venv/lib/python3.9/site-packages (from matplotlib) (2.9.0.post0)\n",
      "Requirement already satisfied: importlib-resources>=3.2.0 in /cs/home/ss504/Documents/Personal/stacshack25/buzzwords/.venv/lib/python3.9/site-packages (from matplotlib) (6.5.2)\n",
      "Requirement already satisfied: zipp>=3.1.0 in /cs/home/ss504/Documents/Personal/stacshack25/buzzwords/.venv/lib/python3.9/site-packages (from importlib-resources>=3.2.0->matplotlib) (3.21.0)\n",
      "Requirement already satisfied: six>=1.5 in /cs/home/ss504/Documents/Personal/stacshack25/buzzwords/.venv/lib/python3.9/site-packages (from python-dateutil>=2.7->matplotlib) (1.17.0)\n",
      "Note: you may need to restart the kernel to use updated packages.\n"
     ]
    },
    {
     "name": "stderr",
     "output_type": "stream",
     "text": [
      "1926.58s - pydevd: Sending message related to process being replaced timed-out after 5 seconds\n"
     ]
    },
    {
     "name": "stdout",
     "output_type": "stream",
     "text": [
      "Looking in indexes: https://download.pytorch.org/whl/cu118\n",
      "Requirement already satisfied: torch in /cs/home/ss504/Documents/Personal/stacshack25/buzzwords/.venv/lib/python3.9/site-packages (2.6.0+cu118)\n",
      "Requirement already satisfied: torchvision in /cs/home/ss504/Documents/Personal/stacshack25/buzzwords/.venv/lib/python3.9/site-packages (0.21.0+cu118)\n",
      "Requirement already satisfied: torchaudio in /cs/home/ss504/Documents/Personal/stacshack25/buzzwords/.venv/lib/python3.9/site-packages (2.6.0+cu118)\n",
      "Requirement already satisfied: filelock in /cs/home/ss504/Documents/Personal/stacshack25/buzzwords/.venv/lib/python3.9/site-packages (from torch) (3.13.1)\n",
      "Requirement already satisfied: typing-extensions>=4.10.0 in /cs/home/ss504/Documents/Personal/stacshack25/buzzwords/.venv/lib/python3.9/site-packages (from torch) (4.12.2)\n",
      "Requirement already satisfied: networkx in /cs/home/ss504/Documents/Personal/stacshack25/buzzwords/.venv/lib/python3.9/site-packages (from torch) (3.2.1)\n",
      "Requirement already satisfied: jinja2 in /cs/home/ss504/Documents/Personal/stacshack25/buzzwords/.venv/lib/python3.9/site-packages (from torch) (3.1.4)\n",
      "Requirement already satisfied: fsspec in /cs/home/ss504/Documents/Personal/stacshack25/buzzwords/.venv/lib/python3.9/site-packages (from torch) (2024.6.1)\n",
      "Requirement already satisfied: nvidia-cuda-nvrtc-cu11==11.8.89 in /cs/home/ss504/Documents/Personal/stacshack25/buzzwords/.venv/lib/python3.9/site-packages (from torch) (11.8.89)\n",
      "Requirement already satisfied: nvidia-cuda-runtime-cu11==11.8.89 in /cs/home/ss504/Documents/Personal/stacshack25/buzzwords/.venv/lib/python3.9/site-packages (from torch) (11.8.89)\n",
      "Requirement already satisfied: nvidia-cuda-cupti-cu11==11.8.87 in /cs/home/ss504/Documents/Personal/stacshack25/buzzwords/.venv/lib/python3.9/site-packages (from torch) (11.8.87)\n",
      "Requirement already satisfied: nvidia-cudnn-cu11==9.1.0.70 in /cs/home/ss504/Documents/Personal/stacshack25/buzzwords/.venv/lib/python3.9/site-packages (from torch) (9.1.0.70)\n",
      "Requirement already satisfied: nvidia-cublas-cu11==11.11.3.6 in /cs/home/ss504/Documents/Personal/stacshack25/buzzwords/.venv/lib/python3.9/site-packages (from torch) (11.11.3.6)\n",
      "Requirement already satisfied: nvidia-cufft-cu11==10.9.0.58 in /cs/home/ss504/Documents/Personal/stacshack25/buzzwords/.venv/lib/python3.9/site-packages (from torch) (10.9.0.58)\n",
      "Requirement already satisfied: nvidia-curand-cu11==10.3.0.86 in /cs/home/ss504/Documents/Personal/stacshack25/buzzwords/.venv/lib/python3.9/site-packages (from torch) (10.3.0.86)\n",
      "Requirement already satisfied: nvidia-cusolver-cu11==11.4.1.48 in /cs/home/ss504/Documents/Personal/stacshack25/buzzwords/.venv/lib/python3.9/site-packages (from torch) (11.4.1.48)\n",
      "Requirement already satisfied: nvidia-cusparse-cu11==11.7.5.86 in /cs/home/ss504/Documents/Personal/stacshack25/buzzwords/.venv/lib/python3.9/site-packages (from torch) (11.7.5.86)\n",
      "Requirement already satisfied: nvidia-nccl-cu11==2.21.5 in /cs/home/ss504/Documents/Personal/stacshack25/buzzwords/.venv/lib/python3.9/site-packages (from torch) (2.21.5)\n",
      "Requirement already satisfied: nvidia-nvtx-cu11==11.8.86 in /cs/home/ss504/Documents/Personal/stacshack25/buzzwords/.venv/lib/python3.9/site-packages (from torch) (11.8.86)\n",
      "Requirement already satisfied: triton==3.2.0 in /cs/home/ss504/Documents/Personal/stacshack25/buzzwords/.venv/lib/python3.9/site-packages (from torch) (3.2.0)\n",
      "Requirement already satisfied: sympy==1.13.1 in /cs/home/ss504/Documents/Personal/stacshack25/buzzwords/.venv/lib/python3.9/site-packages (from torch) (1.13.1)\n",
      "Requirement already satisfied: mpmath<1.4,>=1.1.0 in /cs/home/ss504/Documents/Personal/stacshack25/buzzwords/.venv/lib/python3.9/site-packages (from sympy==1.13.1->torch) (1.3.0)\n",
      "Requirement already satisfied: numpy in /cs/home/ss504/Documents/Personal/stacshack25/buzzwords/.venv/lib/python3.9/site-packages (from torchvision) (2.0.2)\n",
      "Requirement already satisfied: pillow!=8.3.*,>=5.3.0 in /cs/home/ss504/Documents/Personal/stacshack25/buzzwords/.venv/lib/python3.9/site-packages (from torchvision) (11.1.0)\n",
      "Requirement already satisfied: MarkupSafe>=2.0 in /cs/home/ss504/Documents/Personal/stacshack25/buzzwords/.venv/lib/python3.9/site-packages (from jinja2->torch) (2.1.5)\n",
      "Note: you may need to restart the kernel to use updated packages.\n"
     ]
    }
   ],
   "source": [
    "%pip install numpy\n",
    "%pip install matplotlib\n",
    "# change the following line for the right pytorch version if you are using a different machine\n",
    "%pip install torch torchvision torchaudio --index-url https://download.pytorch.org/whl/cu118\n",
    "%pip install -U scikit-learn"
   ]
  },
  {
   "cell_type": "code",
   "execution_count": null,
   "metadata": {},
   "outputs": [],
   "source": [
    "import net_tools as nt           # for later"
   ]
  },
  {
   "cell_type": "code",
   "execution_count": null,
   "metadata": {},
   "outputs": [],
   "source": []
  },
  {
   "cell_type": "code",
   "execution_count": null,
   "metadata": {},
   "outputs": [],
   "source": []
  }
 ],
 "metadata": {
  "kernelspec": {
   "display_name": ".venv",
   "language": "python",
   "name": "python3"
  },
  "language_info": {
   "codemirror_mode": {
    "name": "ipython",
    "version": 3
   },
   "file_extension": ".py",
   "mimetype": "text/x-python",
   "name": "python",
   "nbconvert_exporter": "python",
   "pygments_lexer": "ipython3",
   "version": "3.9.21"
  }
 },
 "nbformat": 4,
 "nbformat_minor": 2
}
